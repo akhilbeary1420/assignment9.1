{
 "cells": [
  {
   "cell_type": "code",
   "execution_count": 1,
   "metadata": {},
   "outputs": [],
   "source": [
    "import numpy as np\n",
    "import pandas as pd\n",
    "from datetime import datetime as dt"
   ]
  },
  {
   "cell_type": "code",
   "execution_count": 2,
   "metadata": {},
   "outputs": [],
   "source": [
    "df = pd.DataFrame({'X': [7, 2, 0, 3, 4, 2, 5, 0, 3, 4]})\n",
    "idx=df.index[df['X']].tolist()"
   ]
  },
  {
   "cell_type": "code",
   "execution_count": 3,
   "metadata": {},
   "outputs": [
    {
     "data": {
      "text/plain": [
       "[7, 2, 0, 3, 4, 2, 5, 0, 3, 4]"
      ]
     },
     "execution_count": 3,
     "metadata": {},
     "output_type": "execute_result"
    }
   ],
   "source": [
    "idx"
   ]
  },
  {
   "cell_type": "code",
   "execution_count": 4,
   "metadata": {},
   "outputs": [
    {
     "name": "stdout",
     "output_type": "stream",
     "text": [
      "[1, 2, 0, 1, 2, 3, 4, 0, 1, 2]\n"
     ]
    }
   ],
   "source": [
    "to_zero =[(idx[i::-1]+[0]).index(0) for i in range(len(idx))]\n",
    "print(to_zero)"
   ]
  },
  {
   "cell_type": "code",
   "execution_count": 5,
   "metadata": {},
   "outputs": [],
   "source": [
    "mydates = pd.date_range(start='2015-01-01', end='2015-12-31', freq='B') \n",
    "s = pd.Series(np.random.randint(0,10000,len(mydates)), index=mydates)"
   ]
  },
  {
   "cell_type": "code",
   "execution_count": 6,
   "metadata": {},
   "outputs": [
    {
     "data": {
      "text/plain": [
       "2015-01-01    8694\n",
       "2015-01-02    7801\n",
       "2015-01-05    4604\n",
       "2015-01-06    2031\n",
       "2015-01-07     877\n",
       "2015-01-08    3793\n",
       "2015-01-09    4258\n",
       "2015-01-12    3336\n",
       "2015-01-13    5221\n",
       "2015-01-14    2978\n",
       "2015-01-15    7689\n",
       "2015-01-16    8809\n",
       "2015-01-19    2447\n",
       "2015-01-20    6546\n",
       "2015-01-21    4436\n",
       "2015-01-22    7321\n",
       "2015-01-23    6629\n",
       "2015-01-26    7031\n",
       "2015-01-27    5907\n",
       "2015-01-28    1989\n",
       "2015-01-29    3019\n",
       "2015-01-30    3094\n",
       "2015-02-02    7680\n",
       "2015-02-03    3453\n",
       "2015-02-04    8982\n",
       "2015-02-05    6276\n",
       "2015-02-06    4725\n",
       "2015-02-09    9781\n",
       "2015-02-10    4457\n",
       "2015-02-11    4503\n",
       "              ... \n",
       "2015-11-20    8987\n",
       "2015-11-23    8649\n",
       "2015-11-24    8804\n",
       "2015-11-25     900\n",
       "2015-11-26    3644\n",
       "2015-11-27    8069\n",
       "2015-11-30    4820\n",
       "2015-12-01    5831\n",
       "2015-12-02    8890\n",
       "2015-12-03    6691\n",
       "2015-12-04    9883\n",
       "2015-12-07    8114\n",
       "2015-12-08    8357\n",
       "2015-12-09    8928\n",
       "2015-12-10    5149\n",
       "2015-12-11    9813\n",
       "2015-12-14    7601\n",
       "2015-12-15    9934\n",
       "2015-12-16    8191\n",
       "2015-12-17     752\n",
       "2015-12-18     318\n",
       "2015-12-21    5635\n",
       "2015-12-22    5325\n",
       "2015-12-23    1824\n",
       "2015-12-24    9976\n",
       "2015-12-25    9095\n",
       "2015-12-28     855\n",
       "2015-12-29    9465\n",
       "2015-12-30    2212\n",
       "2015-12-31    4038\n",
       "Freq: B, Length: 261, dtype: int32"
      ]
     },
     "execution_count": 6,
     "metadata": {},
     "output_type": "execute_result"
    }
   ],
   "source": [
    "s"
   ]
  },
  {
   "cell_type": "code",
   "execution_count": 7,
   "metadata": {},
   "outputs": [
    {
     "data": {
      "text/plain": [
       "253797"
      ]
     },
     "execution_count": 7,
     "metadata": {},
     "output_type": "execute_result"
    }
   ],
   "source": [
    "s[mydates.weekday == 2].sum()"
   ]
  },
  {
   "cell_type": "code",
   "execution_count": 8,
   "metadata": {},
   "outputs": [
    {
     "data": {
      "text/plain": [
       "2015-01-31    4932.272727\n",
       "2015-02-28    5572.850000\n",
       "2015-03-31    4859.590909\n",
       "2015-04-30    3812.136364\n",
       "2015-05-31    4097.714286\n",
       "2015-06-30    4573.000000\n",
       "2015-07-31    4826.565217\n",
       "2015-08-31    5564.714286\n",
       "2015-09-30    6125.545455\n",
       "2015-10-31    5592.454545\n",
       "2015-11-30    4739.333333\n",
       "2015-12-31    6385.956522\n",
       "Freq: M, dtype: float64"
      ]
     },
     "execution_count": 8,
     "metadata": {},
     "output_type": "execute_result"
    }
   ],
   "source": [
    "s.resample('M').mean()"
   ]
  },
  {
   "cell_type": "code",
   "execution_count": 9,
   "metadata": {},
   "outputs": [
    {
     "data": {
      "text/plain": [
       "2015-01-31   2015-01-16\n",
       "2015-05-31   2015-05-07\n",
       "2015-09-30   2015-06-22\n",
       "2016-01-31   2015-10-14\n",
       "dtype: datetime64[ns]"
      ]
     },
     "execution_count": 9,
     "metadata": {},
     "output_type": "execute_result"
    }
   ],
   "source": [
    "s.groupby(pd.Grouper(freq='4M')).idxmax() #pd.TimeGrouper('4M')).idxmax()"
   ]
  },
  {
   "cell_type": "code",
   "execution_count": null,
   "metadata": {},
   "outputs": [],
   "source": []
  }
 ],
 "metadata": {
  "kernelspec": {
   "display_name": "Python 3",
   "language": "python",
   "name": "python3"
  },
  "language_info": {
   "codemirror_mode": {
    "name": "ipython",
    "version": 3
   },
   "file_extension": ".py",
   "mimetype": "text/x-python",
   "name": "python",
   "nbconvert_exporter": "python",
   "pygments_lexer": "ipython3",
   "version": "3.6.6"
  }
 },
 "nbformat": 4,
 "nbformat_minor": 2
}
